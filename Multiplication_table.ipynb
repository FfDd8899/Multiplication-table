{
  "nbformat": 4,
  "nbformat_minor": 0,
  "metadata": {
    "colab": {
      "provenance": []
    },
    "kernelspec": {
      "name": "python3",
      "display_name": "Python 3"
    },
    "language_info": {
      "name": "python"
    }
  },
  "cells": [
    {
      "cell_type": "code",
      "execution_count": null,
      "metadata": {
        "id": "3v3bN1a5A6cA"
      },
      "outputs": [],
      "source": [
        "print(\"Multiplication table of 1 - 12. \\n\")\n",
        "i=1\n",
        "while(i<=12):\n",
        "   j=1\n",
        "   print(\"Table: \"+str(i))\n",
        "   while(j<13):\n",
        "      print(str(i)+\" * \"+str(j)+\" = \"+str(i*j))\n",
        "      j=j+1\n",
        "   print(\"End of the table: \"+str(i))\n",
        "   print(\"----------.\\n\")\n",
        "   i=i+1"
      ]
    },
    {
      "cell_type": "code",
      "source": [
        "print(\"Multiplication table of 1.\\n\")\n",
        "i=2\n",
        "j=1\n",
        "print(\"Table: \"+str(i))\n",
        "while(j<13):\n",
        "      print(str(i)+\" * \"+str(j)+\" = \"+str(i*j))\n",
        "      j=j+1\n",
        "print(\"End of the table: \"+str(i))\n",
        "print(\"----------.\\n\")\n",
        "i=i+1"
      ],
      "metadata": {
        "id": "6_riL_VaJPIP"
      },
      "execution_count": null,
      "outputs": []
    }
  ]
}